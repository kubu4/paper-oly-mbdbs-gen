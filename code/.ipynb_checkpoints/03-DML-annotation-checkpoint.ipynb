{
 "cells": [
  {
   "cell_type": "markdown",
   "metadata": {},
   "source": [
    "Using bedtools to see where DMRs are located."
   ]
  },
  {
   "cell_type": "code",
   "execution_count": 1,
   "metadata": {
    "collapsed": false
   },
   "outputs": [
    {
     "name": "stdout",
     "output_type": "stream",
     "text": [
      "Contig102998\t2220\t2222\t26\r\n",
      "Contig104531\t8145\t8147\t-37\r\n",
      "Contig109515\t3377\t3379\t54\r\n",
      "Contig1104\t15920\t15922\t29\r\n",
      "Contig128059\t154\t156\t-27\r\n",
      "Contig129435\t3172\t3174\t-26\r\n",
      "Contig1297\t49910\t49912\t25\r\n",
      "Contig131260\t1798\t1800\t-29\r\n",
      "Contig132309\t816\t818\t28\r\n",
      "Contig13829\t2520\t2522\t25\r\n"
     ]
    }
   ],
   "source": [
    "!head ../analyses/dml25.bed"
   ]
  },
  {
   "cell_type": "code",
   "execution_count": 6,
   "metadata": {
    "collapsed": false
   },
   "outputs": [
    {
     "name": "stdout",
     "output_type": "stream",
     "text": [
      "      51 ../analyses/dml25.bed\r\n"
     ]
    }
   ],
   "source": [
    "!wc -l ../analyses/dml25.bed"
   ]
  },
  {
   "cell_type": "code",
   "execution_count": 9,
   "metadata": {
    "collapsed": false
   },
   "outputs": [
    {
     "name": "stdout",
     "output_type": "stream",
     "text": [
      "\r\n",
      "Tool:    bedtools intersect (aka intersectBed)\r\n",
      "Version: v2.22.0\r\n",
      "Summary: Report overlaps between two feature files.\r\n",
      "\r\n",
      "Usage:   bedtools intersect [OPTIONS] -a <bed/gff/vcf> -b <bed/gff/vcf>\r\n",
      "\r\n",
      "\t\tNote: -b may be followed with multiple databases and/or \r\n",
      "\t\twildcard (*) character(s). \r\n",
      "Options: \r\n",
      "\t-abam\tThe A input file is in BAM format.  Output will be BAM as well.\r\n",
      "\r\n",
      "\t-ubam\tWrite uncompressed BAM output. Default writes compressed BAM.\r\n",
      "\r\n",
      "\t-bed\tWhen using BAM input (-abam), write output as BED. The default\r\n",
      "\t\tis to write output in BAM when using -abam.\r\n",
      "\r\n",
      "\t-wa\tWrite the original entry in A for each overlap.\r\n",
      "\r\n",
      "\t-wb\tWrite the original entry in B for each overlap.\r\n",
      "\t\t- Useful for knowing _what_ A overlaps. Restricted by -f and -r.\r\n",
      "\r\n",
      "\t-loj\tPerform a \"left outer join\". That is, for each feature in A\r\n",
      "\t\treport each overlap with B.  If no overlaps are found, \r\n",
      "\t\treport a NULL feature for B.\r\n",
      "\r\n",
      "\t-wo\tWrite the original A and B entries plus the number of base\r\n",
      "\t\tpairs of overlap between the two features.\r\n",
      "\t\t- Overlaps restricted by -f and -r.\r\n",
      "\t\t  Only A features with overlap are reported.\r\n",
      "\r\n",
      "\t-wao\tWrite the original A and B entries plus the number of base\r\n",
      "\t\tpairs of overlap between the two features.\r\n",
      "\t\t- Overlapping features restricted by -f and -r.\r\n",
      "\t\t  However, A features w/o overlap are also reported\r\n",
      "\t\t  with a NULL B feature and overlap = 0.\r\n",
      "\r\n",
      "\t-u\tWrite the original A entry _once_ if _any_ overlaps found in B.\r\n",
      "\t\t- In other words, just report the fact >=1 hit was found.\r\n",
      "\t\t- Overlaps restricted by -f and -r.\r\n",
      "\r\n",
      "\t-c\tFor each entry in A, report the number of overlaps with B.\r\n",
      "\t\t- Reports 0 for A entries that have no overlap with B.\r\n",
      "\t\t- Overlaps restricted by -f and -r.\r\n",
      "\r\n",
      "\t-v\tOnly report those entries in A that have _no overlaps_ with B.\r\n",
      "\t\t- Similar to \"grep -v\" (an homage).\r\n",
      "\r\n",
      "\t-f\tMinimum overlap required as a fraction of A.\r\n",
      "\t\t- Default is 1E-9 (i.e., 1bp).\r\n",
      "\t\t- FLOAT (e.g. 0.50)\r\n",
      "\r\n",
      "\t-r\tRequire that the fraction overlap be reciprocal for A and B.\r\n",
      "\t\t- In other words, if -f is 0.90 and -r is used, this requires\r\n",
      "\t\t  that B overlap 90% of A and A _also_ overlaps 90% of B.\r\n",
      "\r\n",
      "\t-s\tRequire same strandedness.  That is, only report hits in B\r\n",
      "\t\tthat overlap A on the _same_ strand.\r\n",
      "\t\t- By default, overlaps are reported without respect to strand.\r\n",
      "\r\n",
      "\t-S\tRequire different strandedness.  That is, only report hits in B\r\n",
      "\t\tthat overlap A on the _opposite_ strand.\r\n",
      "\t\t- By default, overlaps are reported without respect to strand.\r\n",
      "\r\n",
      "\t-split\tTreat \"split\" BAM or BED12 entries as distinct BED intervals.\r\n",
      "\r\n",
      "\t-sorted\tUse the \"chromsweep\" algorithm for sorted (-k1,1 -k2,2n) input.\r\n",
      "\r\n",
      "\t-g\tProvide a genome file to enforce consistent chromosome sort order\r\n",
      "\t\tacross input files. Only applies when used with -sorted option.\r\n",
      "\r\n",
      "\t-header\tPrint the header from the A file prior to results.\r\n",
      "\r\n",
      "\t-nobuf\tDisable buffered output. Using this option will cause each line\r\n",
      "\t\tof output to be printed as it is generated, rather than saved\r\n",
      "\t\tin a buffer. This will make printing large output files \r\n",
      "\t\tnoticeably slower, but can be useful in conjunction with\r\n",
      "\t\tother software tools and scripts that need to process one\r\n",
      "\t\tline of bedtools output at a time.\r\n",
      "\r\n",
      "\t-names\tWhen using multiple databases, provide an alias for each that\r\n",
      "\t\twill appear instead of a fileId when also printing the DB record.\r\n",
      "\r\n",
      "\t-filenames\tWhen using multiple databases, show each complete filename\r\n",
      "\t\t\tinstead of a fileId when also printing the DB record.\r\n",
      "\r\n",
      "\t-sortout\tWhen using multiple databases, sort the output DB hits\r\n",
      "\t\t\tfor each record.\r\n",
      "\r\n",
      "\t-iobuf\tFollow with desired integer size of read buffer.\r\n",
      "\t\tOptional suffixes K/M/G supported.\r\n",
      "\t\tNote: currently has no effect with compressed files.\r\n",
      "\r\n",
      "Notes: \r\n",
      "\t(1) When a BAM file is used for the A file, the alignment is retained if overlaps exist,\r\n",
      "\tand exlcuded if an overlap cannot be found.  If multiple overlaps exist, they are not\r\n",
      "\treported, as we are only testing for one or more overlaps.\r\n",
      "\r\n"
     ]
    }
   ],
   "source": [
    "!/Applications/bioinfo/bedtools2/bin/bedtools intersect \\\n"
   ]
  },
  {
   "cell_type": "code",
   "execution_count": 4,
   "metadata": {
    "collapsed": false
   },
   "outputs": [
    {
     "name": "stdout",
     "output_type": "stream",
     "text": [
      "      22\r\n"
     ]
    }
   ],
   "source": [
    "!/Applications/bioinfo/bedtools2/bin/bedtools intersect \\\n",
    "-u \\\n",
    "-a ../analyses/dml25.bed \\\n",
    "-b ../genome-features/Olurida_v081.gene.gff | wc -l"
   ]
  },
  {
   "cell_type": "code",
   "execution_count": 5,
   "metadata": {
    "collapsed": false
   },
   "outputs": [
    {
     "name": "stdout",
     "output_type": "stream",
     "text": [
      "      23\r\n"
     ]
    }
   ],
   "source": [
    "!/Applications/bioinfo/bedtools2/bin/bedtools intersect \\\n",
    "-a ../analyses/dml25.bed \\\n",
    "-b ../genome-features/Olurida_v081.gene.gff | wc -l"
   ]
  },
  {
   "cell_type": "code",
   "execution_count": 8,
   "metadata": {
    "collapsed": false
   },
   "outputs": [
    {
     "name": "stdout",
     "output_type": "stream",
     "text": [
      "      22\r\n"
     ]
    }
   ],
   "source": [
    "!/Applications/bioinfo/bedtools2/bin/bedtools intersect \\\n",
    "-u \\\n",
    "-a ../analyses/dml25.bed \\\n",
    "-b ../genome-features/O*.gff | wc -l"
   ]
  },
  {
   "cell_type": "code",
   "execution_count": 11,
   "metadata": {
    "collapsed": false
   },
   "outputs": [
    {
     "name": "stdout",
     "output_type": "stream",
     "text": [
      "Contig109515\t3377\t3379\t54\tContig109515\tmaker\tgene\t2799\t9518\t.\t-\t.\tID=Olurida_00011106;Name=Olurida_00011106;Alias=snap_masked-Contig109515-processed-gene-0.1;Note=Protein of unknown function;Dbxref=MobiDBLite:mobidb-lite;\n",
      "Contig1297\t49910\t49912\t25\tContig1297\tmaker\tgene\t32636\t55037\t.\t+\t.\tID=Olurida_00000553;Name=Olurida_00000553;Alias=maker-Contig1297-snap-gene-0.10;Note=Similar to adat1: tRNA-specific adenosine deaminase 1 (Xenopus tropicalis OX%3D8364);Dbxref=InterPro:IPR002466,MobiDBLite:mobidb-lite,Pfam:PF02137,ProSiteProfiles:PS50141,SMART:SM00552;Ontology_term=GO:0003723,GO:0004000,GO:0006396;\n",
      "Contig1297\t49910\t49912\t25\tContig1297\tmaker\tgene\t29809\t64980\t.\t-\t.\tID=Olurida_00000552;Name=Olurida_00000552;Alias=snap_masked-Contig1297-processed-gene-0.6;Note=Similar to FHOD3: FH1/FH2 domain-containing protein 3 (Homo sapiens OX%3D9606);Dbxref=Gene3D:G3DSA:1.20.58.2220,InterPro:IPR015425,MobiDBLite:mobidb-lite,Pfam:PF02181,ProSiteProfiles:PS51444,SMART:SM00498,SUPERFAMILY:SSF101447;\n",
      "Contig143\t19460\t19462\t40\tContig143\tmaker\tgene\t7740\t23511\t.\t+\t.\tID=Olurida_00000711;Name=Olurida_00000711;Alias=maker-Contig143-snap-gene-0.3;Note=Similar to ZMYND12: Zinc finger MYND domain-containing protein 12 (Homo sapiens OX%3D9606);Dbxref=Gene3D:G3DSA:1.25.40.10,InterPro:IPR011990,InterPro:IPR013026,InterPro:IPR019734,Pfam:PF13181,ProSiteProfiles:PS50005,ProSiteProfiles:PS50293,SMART:SM00028,SUPERFAMILY:SSF48452;Ontology_term=GO:0005515;\n",
      "Contig17262\t1857\t1859\t-26\tContig17262\tmaker\tgene\t455\t5466\t.\t+\t.\tID=Olurida_00005572;Name=Olurida_00005572;Alias=maker-Contig17262-snap-gene-0.2;Note=Similar to rfx3: Transcription factor RFX3 (Danio rerio OX%3D7955);\n",
      "Contig18086\t7921\t7923\t-38\tContig18086\tmaker\tgene\t6067\t9921\t.\t+\t.\tID=Olurida_00015925;Name=Olurida_00015925;Alias=maker-Contig18086-snap-gene-0.1;Note=Similar to PRICKLE2: Prickle-like protein 2 (Homo sapiens OX%3D9606);Dbxref=CDD:cd09340,CDD:cd09418,CDD:cd09420,CDD:cd09827,Gene3D:G3DSA:2.10.110.10,InterPro:IPR001781,InterPro:IPR010442,InterPro:IPR033723,InterPro:IPR033726,InterPro:IPR033727,MobiDBLite:mobidb-lite,Pfam:PF00412,Pfam:PF06297,ProSitePatterns:PS00478,ProSiteProfiles:PS50023,ProSiteProfiles:PS51303,SMART:SM00132,SUPERFAMILY:SSF57716;Ontology_term=GO:0008270;\n",
      "Contig20896\t12523\t12525\t-35\tContig20896\tmaker\tgene\t157\t15785\t.\t+\t.\tID=Olurida_00007543;Name=Olurida_00007543;Alias=maker-Contig20896-snap-gene-0.2;Note=Similar to Rere: Arginine-glutamic acid dipeptide repeats protein (Mus musculus OX%3D10090);Dbxref=Coils:Coil,InterPro:IPR002951,MobiDBLite:mobidb-lite,Pfam:PF03154;\n",
      "Contig23065\t230\t232\t-29\tContig23065\tmaker\tgene\t148\t5330\t.\t-\t.\tID=Olurida_00020860;Name=Olurida_00020860;Alias=maker-Contig23065-snap-gene-0.3;Note=Protein of unknown function;Dbxref=MobiDBLite:mobidb-lite;\n",
      "Contig23065\t2274\t2276\t-40\tContig23065\tmaker\tgene\t148\t5330\t.\t-\t.\tID=Olurida_00020860;Name=Olurida_00020860;Alias=maker-Contig23065-snap-gene-0.3;Note=Protein of unknown function;Dbxref=MobiDBLite:mobidb-lite;\n",
      "Contig23414\t3469\t3471\t-40\tContig23414\tmaker\tgene\t353\t5446\t.\t-\t.\tID=Olurida_00020586;Name=Olurida_00020586;Alias=maker-Contig23414-snap-gene-0.2;Note=Similar to ABCA3: ATP-binding cassette sub-family A member 3 (Homo sapiens OX%3D9606);Dbxref=CDD:cd03263,Gene3D:G3DSA:3.40.50.300,InterPro:IPR003439,InterPro:IPR003593,InterPro:IPR003959,InterPro:IPR017871,InterPro:IPR027417,Pfam:PF00005,Pfam:PF12698,Pfam:PF13304,ProSitePatterns:PS00211,ProSiteProfiles:PS50893,SMART:SM00382,SUPERFAMILY:SSF52540;Ontology_term=GO:0005524,GO:0016887;\n",
      "Contig23997\t9446\t9448\t-29\tContig23997\tmaker\tgene\t111\t9667\t.\t+\t.\tID=Olurida_00010613;Name=Olurida_00010613;Alias=maker-Contig23997-snap-gene-0.2;Note=Protein of unknown function;Dbxref=Gene3D:G3DSA:2.130.10.10,InterPro:IPR015943,InterPro:IPR036352,SUPERFAMILY:SSF101912;Ontology_term=GO:0005515;\n",
      "Contig25952\t11184\t11186\t-60\tContig25952\tmaker\tgene\t4498\t23355\t.\t-\t.\tID=Olurida_00006508;Name=Olurida_00006508;Alias=maker-Contig25952-snap-gene-0.2;Note=Similar to Ppm1b: Protein phosphatase 1B (Mus musculus OX%3D10090);Dbxref=CDD:cd00143,Gene3D:G3DSA:1.10.10.430,Gene3D:G3DSA:3.60.40.10,InterPro:IPR000222,InterPro:IPR001932,InterPro:IPR012911,InterPro:IPR036457,InterPro:IPR036580,Pfam:PF00481,Pfam:PF07830,ProSitePatterns:PS01032,ProSiteProfiles:PS51746,SMART:SM00331,SMART:SM00332,SUPERFAMILY:SSF81601,SUPERFAMILY:SSF81606;Ontology_term=GO:0000287,GO:0003824,GO:0004721,GO:0030145,GO:0043169;\n",
      "Contig295049\t2122\t2124\t34\tContig295049\tmaker\tgene\t1898\t5614\t.\t-\t.\tID=Olurida_00019651;Name=Olurida_00019651;Alias=snap_masked-Contig295049-processed-gene-0.1;Note=Similar to SLC25A45: Solute carrier family 25 member 45 (Homo sapiens OX%3D9606);Dbxref=Gene3D:G3DSA:1.50.40.10,InterPro:IPR018108,InterPro:IPR023395,Pfam:PF00153,ProSiteProfiles:PS50920,SUPERFAMILY:SSF103506;\n",
      "Contig32850\t14996\t14998\t-29\tContig32850\tmaker\tgene\t23\t16989\t.\t-\t.\tID=Olurida_00010322;Name=Olurida_00010322;Alias=maker-Contig32850-snap-gene-0.4;Note=Protein of unknown function;Dbxref=Coils:Coil;\n",
      "Contig34342\t15413\t15415\t-47\tContig34342\tmaker\tgene\t8103\t16876\t.\t+\t.\tID=Olurida_00010914;Name=Olurida_00010914;Alias=snap_masked-Contig34342-processed-gene-0.1;Note=Protein of unknown function;\n",
      "Contig34601\t950\t952\t38\tContig34601\tmaker\tgene\t653\t1741\t.\t+\t.\tID=Olurida_00024219;Name=Olurida_00024219;Alias=snap_masked-Contig34601-processed-gene-0.0;Note=Protein of unknown function;Dbxref=MobiDBLite:mobidb-lite;\n",
      "Contig35176\t27110\t27112\t39\tContig35176\tmaker\tgene\t3428\t27903\t.\t+\t.\tID=Olurida_00002180;Name=Olurida_00002180;Alias=maker-Contig35176-snap-gene-0.7;Note=Similar to tenm3: Teneurin-3 (Danio rerio OX%3D7955);Dbxref=CDD:cd00054,CDD:cd00055,Gene3D:G3DSA:2.10.25.10,Gene3D:G3DSA:2.120.10.30,Gene3D:G3DSA:2.60.120.260,InterPro:IPR000742,InterPro:IPR008979,InterPro:IPR011042,InterPro:IPR013032,InterPro:IPR013111,Pfam:PF00008,Pfam:PF07974,ProSitePatterns:PS00022,ProSitePatterns:PS01186,ProSiteProfiles:PS50026,SMART:SM00181,SUPERFAMILY:SSF63825;\n",
      "Contig36640\t9319\t9321\t38\tContig36640\tmaker\tgene\t633\t13701\t.\t+\t.\tID=Olurida_00004176;Name=Olurida_00004176;Alias=maker-Contig36640-snap-gene-0.2;Note=Similar to ARID2: AT-rich interactive domain-containing protein 2 (Homo sapiens OX%3D9606);Dbxref=Gene3D:G3DSA:3.30.160.60,InterPro:IPR013087,InterPro:IPR016024,MobiDBLite:mobidb-lite,ProSitePatterns:PS00028,SMART:SM00355,SUPERFAMILY:SSF48371;Ontology_term=GO:0003676;\n",
      "Contig42707\t10320\t10322\t32\tContig42707\tmaker\tgene\t1432\t11200\t.\t+\t.\tID=Olurida_00015274;Name=Olurida_00015274;Alias=maker-Contig42707-snap-gene-0.2;Note=Similar to Klhl8: Kelch-like protein 8 (Mus musculus OX%3D10090);Dbxref=Gene3D:G3DSA:3.30.710.10,InterPro:IPR000210,InterPro:IPR011333,MobiDBLite:mobidb-lite,Pfam:PF00651,ProSiteProfiles:PS50097,SMART:SM00225,SUPERFAMILY:SSF54695;Ontology_term=GO:0005515;\n",
      "Contig5712\t1308\t1310\t-26\tContig5712\tmaker\tgene\t910\t3076\t.\t-\t.\tID=Olurida_00021666;Name=Olurida_00021666;Alias=maker-Contig5712-snap-gene-0.1;Note=Similar to SUMF2: Inactive C-alpha-formylglycine-generating enzyme 2 (Bos taurus OX%3D9913);Dbxref=Gene3D:G3DSA:3.90.1580.10,InterPro:IPR005532,InterPro:IPR016187,Pfam:PF03781,SUPERFAMILY:SSF56436;\n",
      "Contig60274\t9480\t9482\t-69\tContig60274\tmaker\tgene\t3046\t10691\t.\t+\t.\tID=Olurida_00015131;Name=Olurida_00015131;Alias=maker-Contig60274-snap-gene-0.1;Note=Similar to RNF169: E3 ubiquitin-protein ligase RNF169 (Bos taurus OX%3D9913);Dbxref=Coils:Coil,MobiDBLite:mobidb-lite;\n",
      "Contig67368\t5047\t5049\t-43\tContig67368\tmaker\tgene\t4197\t5153\t.\t-\t.\tID=Olurida_00021261;Name=Olurida_00021261;Alias=snap_masked-Contig67368-processed-gene-0.1;Note=Similar to Zkscan1: Zinc finger protein with KRAB and SCAN domains 1 (Mus musculus OX%3D10090);Dbxref=Gene3D:G3DSA:3.30.160.60,InterPro:IPR013087,InterPro:IPR036236,MobiDBLite:mobidb-lite,Pfam:PF00096,ProSitePatterns:PS00028,ProSiteProfiles:PS50157,SMART:SM00355,SUPERFAMILY:SSF57667;Ontology_term=GO:0003676;\n",
      "Contig689\t3965\t3967\t-45\tContig689\tmaker\tgene\t1525\t4997\t.\t+\t.\tID=Olurida_00003554;Name=Olurida_00003554;Alias=maker-Contig689-snap-gene-0.6;Note=Protein of unknown function;\n"
     ]
    }
   ],
   "source": [
    "!/Applications/bioinfo/bedtools2/bin/bedtools intersect \\\n",
    "-wb \\\n",
    "-a ../analyses/dml25.bed \\\n",
    "-b ../genome-features/Olurida_v081.gene.gff"
   ]
  },
  {
   "cell_type": "code",
   "execution_count": null,
   "metadata": {
    "collapsed": true
   },
   "outputs": [],
   "source": []
  }
 ],
 "metadata": {
  "kernelspec": {
   "display_name": "Python 2",
   "language": "python",
   "name": "python2"
  },
  "language_info": {
   "codemirror_mode": {
    "name": "ipython",
    "version": 2
   },
   "file_extension": ".py",
   "mimetype": "text/x-python",
   "name": "python",
   "nbconvert_exporter": "python",
   "pygments_lexer": "ipython2",
   "version": "2.7.12"
  }
 },
 "nbformat": 4,
 "nbformat_minor": 0
}
