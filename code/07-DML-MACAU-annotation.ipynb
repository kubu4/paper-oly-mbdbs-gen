{
 "cells": [
  {
   "cell_type": "markdown",
   "metadata": {},
   "source": [
    "## Use bedtools to see where DMLs and MACAU loci are located.\n",
    "\n",
    "DMLs between the Olympia oyster populations, Hood Canal and South Sound, were identified using MethylKit. File is: [analyses/dml25.bed](https://github.com/sr320/paper-oly-mbdbs-gen/blob/master/analyses/dml25.bed) \n",
    "\n",
    "MACAU was used to identify loci at which methylation is associated with a phenotype, in our case shell length, while controlling for relatedness. \n",
    "- Loci, all samples with 10x coverage: [analyses/macau-all10x.bed](https://github.com/sr320/paper-oly-mbdbs-gen/blob/master/analyses/macau-all10x.bed)\n",
    "- Loci, any samples with 10x coverage:[analyses/macau-any10x.bed](https://github.com/sr320/paper-oly-mbdbs-gen/blob/master/analyses/macau-any10x.bed)"
   ]
  },
  {
   "cell_type": "markdown",
   "metadata": {},
   "source": [
    "### Preview DML and MACAU loci bed files "
   ]
  },
  {
   "cell_type": "code",
   "execution_count": 3,
   "metadata": {},
   "outputs": [
    {
     "name": "stdout",
     "output_type": "stream",
     "text": [
      "Contig102998\t2220\t2222\t26\n",
      "Contig104531\t8145\t8147\t-37\n",
      "Contig109515\t3377\t3379\t54\n",
      "Contig1104\t15920\t15922\t29\n",
      "Contig128059\t154\t156\t-27\n",
      "Contig129435\t3172\t3174\t-26\n",
      "Contig1297\t49910\t49912\t25\n",
      "Contig131260\t1798\t1800\t-29\n",
      "Contig132309\t816\t818\t28\n",
      "Contig13829\t2520\t2522\t25\n",
      "      51 ../analyses/dml25.bed\n"
     ]
    }
   ],
   "source": [
    "!head ../analyses/dml25.bed\n",
    "!wc -l ../analyses/dml25.bed"
   ]
  },
  {
   "cell_type": "code",
   "execution_count": 43,
   "metadata": {},
   "outputs": [
    {
     "name": "stdout",
     "output_type": "stream",
     "text": [
      "Contig1054173286\t3286\t3286\n",
      "Contig109628199\t28199\t28199\n",
      "Contig1102783989\t3989\t3989\n",
      "Contig110906429\t429\t429\n",
      "Contig110927764\t7764\t7764\n",
      "Contig111772433\t2433\t2433\n",
      "Contig1118734850\t4850\t4850\n",
      "Contig1129975372\t5372\t5372\n",
      "Contig11310801\t10801\t10801\n",
      "Contig113403874\t874\t874\n",
      "     219 ../analyses/macau/macau-any10x.bed\n"
     ]
    }
   ],
   "source": [
    "!head ../analyses/macau/macau-any10x.bed\n",
    "!wc -l ../analyses/macau/macau-any10x.bed"
   ]
  },
  {
   "cell_type": "code",
   "execution_count": 44,
   "metadata": {},
   "outputs": [
    {
     "name": "stdout",
     "output_type": "stream",
     "text": [
      "Contig110906429\t429\t429\n",
      "Contig120547984\t984\t984\n",
      "Contig1665313524\t13524\t13524\n",
      "Contig1808410113\t10113\t10113\n",
      "Contig186755901\t5901\t5901\n",
      "Contig20226526\t26526\t26526\n",
      "Contig218272401\t401\t401\n",
      "Contig221432429\t2429\t2429\n",
      "Contig229987506\t7506\t7506\n",
      "Contig229987604\t7604\t7604\n",
      "      27 ../analyses/macau/macau-all10x.bed\n"
     ]
    }
   ],
   "source": [
    "!head ../analyses/macau/macau-all10x.bed\n",
    "!wc -l ../analyses/macau/macau-all10x.bed"
   ]
  },
  {
   "cell_type": "markdown",
   "metadata": {},
   "source": [
    "### Preview feature files \n",
    "\n",
    "[Olurida_v081.gene.gff](https://github.com/sr320/paper-oly-mbdbs-gen/blob/master/genome-features/Olurida_v081.gene.gff) - genes    \n",
    "[Olurida_v081.CDS.gff](https://github.com/sr320/paper-oly-mbdbs-gen/blob/master/genome-features/Olurida_v081.CDS.gff) - Coding regions of genes    \n",
    "[Olurida_v081.exon.gff](https://github.com/sr320/paper-oly-mbdbs-gen/blob/master/genome-features/Olurida_v081.exon.gff) - Exons   \n",
    "[Olurida_v081.intron.bed](https://github.com/sr320/paper-oly-mbdbs-gen/blob/master/genome-features/Olurida_v081.intron.bed) - Introns    \n",
    "[Olurida_v081.mRNA.gff](https://github.com/sr320/paper-oly-mbdbs-gen/blob/master/genome-features/Olurida_v081.mRNA.gff) - mRNA    \n",
    "[Olurida_v081.three_prime_UTR.gff](https://github.com/sr320/paper-oly-mbdbs-gen/blob/master/genome-features/Olurida_v081.three_prime_UTR.gff) - 3' untranslated regions   \n",
    "[Olurida_v081.five_prime_UTR.gff](https://github.com/sr320/paper-oly-mbdbs-gen/blob/master/genome-features/Olurida_v081.five_prime_UTR.gff) - 5' untranslated regions   "
   ]
  },
  {
   "cell_type": "code",
   "execution_count": 11,
   "metadata": {},
   "outputs": [
    {
     "name": "stdout",
     "output_type": "stream",
     "text": [
      "\r\n",
      "Tool:    bedtools intersect (aka intersectBed)\r\n",
      "Version: v2.29.0\r\n",
      "Summary: Report overlaps between two feature files.\r\n",
      "\r\n",
      "Usage:   bedtools intersect [OPTIONS] -a <bed/gff/vcf/bam> -b <bed/gff/vcf/bam>\r\n",
      "\r\n",
      "\tNote: -b may be followed with multiple databases and/or \r\n",
      "\twildcard (*) character(s). \r\n",
      "Options: \r\n",
      "\t-wa\tWrite the original entry in A for each overlap.\r\n",
      "\r\n",
      "\t-wb\tWrite the original entry in B for each overlap.\r\n",
      "\t\t- Useful for knowing _what_ A overlaps. Restricted by -f and -r.\r\n",
      "\r\n",
      "\t-loj\tPerform a \"left outer join\". That is, for each feature in A\r\n",
      "\t\treport each overlap with B.  If no overlaps are found, \r\n",
      "\t\treport a NULL feature for B.\r\n",
      "\r\n",
      "\t-wo\tWrite the original A and B entries plus the number of base\r\n",
      "\t\tpairs of overlap between the two features.\r\n",
      "\t\t- Overlaps restricted by -f and -r.\r\n",
      "\t\t  Only A features with overlap are reported.\r\n",
      "\r\n",
      "\t-wao\tWrite the original A and B entries plus the number of base\r\n",
      "\t\tpairs of overlap between the two features.\r\n",
      "\t\t- Overlapping features restricted by -f and -r.\r\n",
      "\t\t  However, A features w/o overlap are also reported\r\n",
      "\t\t  with a NULL B feature and overlap = 0.\r\n",
      "\r\n",
      "\t-u\tWrite the original A entry _once_ if _any_ overlaps found in B.\r\n",
      "\t\t- In other words, just report the fact >=1 hit was found.\r\n",
      "\t\t- Overlaps restricted by -f and -r.\r\n",
      "\r\n",
      "\t-c\tFor each entry in A, report the number of overlaps with B.\r\n",
      "\t\t- Reports 0 for A entries that have no overlap with B.\r\n",
      "\t\t- Overlaps restricted by -f, -F, -r, and -s.\r\n",
      "\r\n",
      "\t-C\tFor each entry in A, separately report the number of\r\n",
      "\t\t- overlaps with each B file on a distinct line.\r\n",
      "\t\t- Reports 0 for A entries that have no overlap with B.\r\n",
      "\t\t- Overlaps restricted by -f, -F, -r, and -s.\r\n",
      "\r\n",
      "\t-v\tOnly report those entries in A that have _no overlaps_ with B.\r\n",
      "\t\t- Similar to \"grep -v\" (an homage).\r\n",
      "\r\n",
      "\t-ubam\tWrite uncompressed BAM output. Default writes compressed BAM.\r\n",
      "\r\n",
      "\t-s\tRequire same strandedness.  That is, only report hits in B\r\n",
      "\t\tthat overlap A on the _same_ strand.\r\n",
      "\t\t- By default, overlaps are reported without respect to strand.\r\n",
      "\r\n",
      "\t-S\tRequire different strandedness.  That is, only report hits in B\r\n",
      "\t\tthat overlap A on the _opposite_ strand.\r\n",
      "\t\t- By default, overlaps are reported without respect to strand.\r\n",
      "\r\n",
      "\t-f\tMinimum overlap required as a fraction of A.\r\n",
      "\t\t- Default is 1E-9 (i.e., 1bp).\r\n",
      "\t\t- FLOAT (e.g. 0.50)\r\n",
      "\r\n",
      "\t-F\tMinimum overlap required as a fraction of B.\r\n",
      "\t\t- Default is 1E-9 (i.e., 1bp).\r\n",
      "\t\t- FLOAT (e.g. 0.50)\r\n",
      "\r\n",
      "\t-r\tRequire that the fraction overlap be reciprocal for A AND B.\r\n",
      "\t\t- In other words, if -f is 0.90 and -r is used, this requires\r\n",
      "\t\t  that B overlap 90% of A and A _also_ overlaps 90% of B.\r\n",
      "\r\n",
      "\t-e\tRequire that the minimum fraction be satisfied for A OR B.\r\n",
      "\t\t- In other words, if -e is used with -f 0.90 and -F 0.10 this requires\r\n",
      "\t\t  that either 90% of A is covered OR 10% of  B is covered.\r\n",
      "\t\t  Without -e, both fractions would have to be satisfied.\r\n",
      "\r\n",
      "\t-split\tTreat \"split\" BAM or BED12 entries as distinct BED intervals.\r\n",
      "\r\n",
      "\t-g\tProvide a genome file to enforce consistent chromosome sort order\r\n",
      "\t\tacross input files. Only applies when used with -sorted option.\r\n",
      "\r\n",
      "\t-nonamecheck\tFor sorted data, don't throw an error if the file has different naming conventions\r\n",
      "\t\t\tfor the same chromosome. ex. \"chr1\" vs \"chr01\".\r\n",
      "\r\n",
      "\t-sorted\tUse the \"chromsweep\" algorithm for sorted (-k1,1 -k2,2n) input.\r\n",
      "\r\n",
      "\t-names\tWhen using multiple databases, provide an alias for each that\r\n",
      "\t\twill appear instead of a fileId when also printing the DB record.\r\n",
      "\r\n",
      "\t-filenames\tWhen using multiple databases, show each complete filename\r\n",
      "\t\t\tinstead of a fileId when also printing the DB record.\r\n",
      "\r\n",
      "\t-sortout\tWhen using multiple databases, sort the output DB hits\r\n",
      "\t\t\tfor each record.\r\n",
      "\r\n",
      "\t-bed\tIf using BAM input, write output as BED.\r\n",
      "\r\n",
      "\t-header\tPrint the header from the A file prior to results.\r\n",
      "\r\n",
      "\t-nobuf\tDisable buffered output. Using this option will cause each line\r\n",
      "\t\tof output to be printed as it is generated, rather than saved\r\n",
      "\t\tin a buffer. This will make printing large output files \r\n",
      "\t\tnoticeably slower, but can be useful in conjunction with\r\n",
      "\t\tother software tools and scripts that need to process one\r\n",
      "\t\tline of bedtools output at a time.\r\n",
      "\r\n",
      "\t-iobuf\tSpecify amount of memory to use for input buffer.\r\n",
      "\t\tTakes an integer argument. Optional suffixes K/M/G supported.\r\n",
      "\t\tNote: currently has no effect with compressed files.\r\n",
      "\r\n",
      "Notes: \r\n",
      "\t(1) When a BAM file is used for the A file, the alignment is retained if overlaps exist,\r\n",
      "\tand excluded if an overlap cannot be found.  If multiple overlaps exist, they are not\r\n",
      "\treported, as we are only testing for one or more overlaps.\r\n",
      "\r\n",
      "\r\n",
      "\r\n",
      "\r\n",
      "***** ERROR: No input file given. Exiting. *****\r\n"
     ]
    }
   ],
   "source": [
    "! bedtools intersect \\"
   ]
  },
  {
   "cell_type": "markdown",
   "metadata": {},
   "source": [
    "Bedtool options to use:  \n",
    "`-u` - Write the original A entry _once_ if _any_ overlaps found in B, _i.e._ just report the fact >=1 hit was found  \n",
    "`-a` - File A  \n",
    "`-b` - File B  "
   ]
  },
  {
   "cell_type": "markdown",
   "metadata": {},
   "source": [
    "### There are 51 DMLs, which are located ...."
   ]
  },
  {
   "cell_type": "code",
   "execution_count": 79,
   "metadata": {},
   "outputs": [
    {
     "name": "stdout",
     "output_type": "stream",
     "text": [
      "      24\n",
      "of 51 DMLs overlap with any feature track\n"
     ]
    }
   ],
   "source": [
    "# Within any feature track  \n",
    "! bedtools intersect \\\n",
    "-u \\\n",
    "-a ../analyses/dml25.bed \\\n",
    "-b ../genome-features/O* | wc -l\n",
    "!echo \"of 51 DMLs overlap with any feature track\"\n"
   ]
  },
  {
   "cell_type": "code",
   "execution_count": 80,
   "metadata": {},
   "outputs": [
    {
     "name": "stdout",
     "output_type": "stream",
     "text": [
      "      22\n",
      "of 51 DMLs overlap with genes\n"
     ]
    }
   ],
   "source": [
    "# Within genes \n",
    "! bedtools intersect \\\n",
    "-u \\\n",
    "-a ../analyses/dml25.bed \\\n",
    "-b ../genome-features/Olurida_v081.gene.gff | wc -l\n",
    "!echo \"of 51 DMLs overlap with genes\""
   ]
  },
  {
   "cell_type": "code",
   "execution_count": 81,
   "metadata": {},
   "outputs": [
    {
     "name": "stdout",
     "output_type": "stream",
     "text": [
      "      19\n",
      "of 51 DMLs overlap with coding sequences\n"
     ]
    }
   ],
   "source": [
    "# Within coding sequences   \n",
    "! bedtools intersect \\\n",
    "-u \\\n",
    "-a ../analyses/dml25.bed \\\n",
    "-b ../genome-features/Olurida_v081.CDS.gff | wc -l\n",
    "!echo \"of 51 DMLs overlap with coding sequences\""
   ]
  },
  {
   "cell_type": "code",
   "execution_count": 82,
   "metadata": {},
   "outputs": [
    {
     "name": "stdout",
     "output_type": "stream",
     "text": [
      "      20\n",
      "of 51 DMLs overlap with exons\n"
     ]
    }
   ],
   "source": [
    "# Within exons \n",
    "! bedtools intersect \\\n",
    "-a ../analyses/dml25.bed \\\n",
    "-b ../genome-features/Olurida_v081.exon.gff | wc -l\n",
    "!echo \"of 51 DMLs overlap with exons\""
   ]
  },
  {
   "cell_type": "code",
   "execution_count": 83,
   "metadata": {},
   "outputs": [
    {
     "name": "stdout",
     "output_type": "stream",
     "text": [
      "       3\n",
      "of 51 DMLs overlap with introns\n"
     ]
    }
   ],
   "source": [
    "# Within introns  \n",
    "! bedtools intersect \\\n",
    "-a ../analyses/dml25.bed \\\n",
    "-b ../genome-features/Olurida_v081.intron.bed | wc -l\n",
    "!echo \"of 51 DMLs overlap with introns\""
   ]
  },
  {
   "cell_type": "code",
   "execution_count": 84,
   "metadata": {},
   "outputs": [
    {
     "name": "stdout",
     "output_type": "stream",
     "text": [
      "      23\n",
      "of 51 DMLs overlap with mRNA\n"
     ]
    }
   ],
   "source": [
    "# Within mRNA   \n",
    "! bedtools intersect \\\n",
    "-a ../analyses/dml25.bed \\\n",
    "-b ../genome-features/Olurida_v081.mRNA.gff | wc -l\n",
    "!echo \"of 51 DMLs overlap with mRNA\""
   ]
  },
  {
   "cell_type": "code",
   "execution_count": 85,
   "metadata": {},
   "outputs": [
    {
     "name": "stdout",
     "output_type": "stream",
     "text": [
      "       0\n",
      "of 51 DML overlaps with 5' UTRs\n"
     ]
    }
   ],
   "source": [
    "# Within 5' untranslated regions   \n",
    "! bedtools intersect \\\n",
    "-a ../analyses/dml25.bed \\\n",
    "-b ../genome-features/Olurida_v081.five_prime_UTR.gff | wc -l\n",
    "!echo \"of 51 DML overlaps with 5' UTRs\""
   ]
  },
  {
   "cell_type": "code",
   "execution_count": 86,
   "metadata": {},
   "outputs": [
    {
     "name": "stdout",
     "output_type": "stream",
     "text": [
      "       1\n",
      "of 51 DMLs overlap with 3' UTRs\n"
     ]
    }
   ],
   "source": [
    "# Within 3' untranslated regions   \n",
    "! bedtools intersect \\\n",
    "-a ../analyses/dml25.bed \\\n",
    "-b ../genome-features/Olurida_v081.three_prime_UTR.gff | wc -l\n",
    "!echo \"of 51 DMLs overlap with 3' UTRs\""
   ]
  },
  {
   "cell_type": "code",
   "execution_count": 87,
   "metadata": {},
   "outputs": [
    {
     "name": "stdout",
     "output_type": "stream",
     "text": [
      "       3\n",
      "of 51 DMLs overlap with Transposable Elements\n"
     ]
    }
   ],
   "source": [
    "# Within TE's\n",
    "! bedtools intersect \\\n",
    "-a ../analyses/dml25.bed \\\n",
    "-b ../genome-features/Olurida_v081_TE-Cg.gff | wc -l\n",
    "!echo \"of 51 DMLs overlap with Transposable Elements\""
   ]
  },
  {
   "cell_type": "markdown",
   "metadata": {},
   "source": [
    "### MACAU-identified 219 loci with 10x coverage in at least 1 sample (\"10x-any\"), and 27 loci with 10x coverage in all samples  (\"10x-any\"). Of those ... "
   ]
  },
  {
   "cell_type": "code",
   "execution_count": 70,
   "metadata": {},
   "outputs": [
    {
     "name": "stdout",
     "output_type": "stream",
     "text": [
      "     114\n",
      "of 219 10x-any loci overlap with any feature track\n",
      "      13\n",
      "of 27 10x-all loci overlap with any feature track\n"
     ]
    }
   ],
   "source": [
    "# Within any feature track  \n",
    "! bedtools intersect \\\n",
    "-u \\\n",
    "-a ../analyses/macau/macau-any10x.bed \\\n",
    "-b ../genome-features/O* | wc -l\n",
    "!echo \"of 219 10x-any loci overlap with any feature track\"\n",
    "\n",
    "! bedtools intersect \\\n",
    "-u \\\n",
    "-a ../analyses/macau/macau-all10x.bed \\\n",
    "-b ../genome-features/O* | wc -l\n",
    "!echo \"of 27 10x-all loci overlap with any feature track\""
   ]
  },
  {
   "cell_type": "code",
   "execution_count": 71,
   "metadata": {},
   "outputs": [
    {
     "name": "stdout",
     "output_type": "stream",
     "text": [
      "     101\n",
      "of 219 10x-any loci overlap with genes\n",
      "      12\n",
      "of 27 10x-all loci overlap with genes\n"
     ]
    }
   ],
   "source": [
    "# Within genes \n",
    "! bedtools intersect \\\n",
    "-u \\\n",
    "-a ../analyses/macau/macau-any10x.bed \\\n",
    "-b ../genome-features/Olurida_v081.gene.gff | wc -l\n",
    "!echo \"of 219 10x-any loci overlap with genes\"\n",
    "\n",
    "! bedtools intersect \\\n",
    "-u \\\n",
    "-a ../analyses/macau/macau-all10x.bed \\\n",
    "-b ../genome-features/Olurida_v081.gene.gff | wc -l\n",
    "!echo \"of 27 10x-all loci overlap with genes\"\n"
   ]
  },
  {
   "cell_type": "code",
   "execution_count": 72,
   "metadata": {},
   "outputs": [
    {
     "name": "stdout",
     "output_type": "stream",
     "text": [
      "      85\n",
      "of 219 10x-any loci overlap with coding sequences\n",
      "      11\n",
      "of 27 10x-all overlap with coding sequences\n"
     ]
    }
   ],
   "source": [
    "# Within CDS  \n",
    "! bedtools intersect \\\n",
    "-u \\\n",
    "-a ../analyses/macau/macau-any10x.bed \\\n",
    "-b ../genome-features/Olurida_v081.CDS.gff | wc -l\n",
    "!echo \"of 219 10x-any loci overlap with coding sequences\"\n",
    "\n",
    "! bedtools intersect \\\n",
    "-u \\\n",
    "-a ../analyses/macau/macau-all10x.bed \\\n",
    "-b ../genome-features/Olurida_v081.CDS.gff | wc -l\n",
    "!echo \"of 27 10x-all overlap with coding sequences\"\n"
   ]
  },
  {
   "cell_type": "code",
   "execution_count": 73,
   "metadata": {},
   "outputs": [
    {
     "name": "stdout",
     "output_type": "stream",
     "text": [
      "      87\n",
      "of 219 10x-any loci overlap with exons\n",
      "      11\n",
      "10x-all overlap with exons\n"
     ]
    }
   ],
   "source": [
    "# Within exons  \n",
    "! bedtools intersect \\\n",
    "-u \\\n",
    "-a ../analyses/macau/macau-any10x.bed \\\n",
    "-b ../genome-features/Olurida_v081.exon.gff | wc -l\n",
    "!echo \"of 219 10x-any loci overlap with exons\"\n",
    "\n",
    "! bedtools intersect \\\n",
    "-u \\\n",
    "-a ../analyses/macau/macau-all10x.bed \\\n",
    "-b ../genome-features/Olurida_v081.exon.gff | wc -l\n",
    "!echo \"10x-all overlap with exons\""
   ]
  },
  {
   "cell_type": "code",
   "execution_count": 74,
   "metadata": {},
   "outputs": [
    {
     "name": "stdout",
     "output_type": "stream",
     "text": [
      "      14\n",
      "of 219 10x-any overlap with introns\n",
      "       1\n",
      "of 27 10x-all overlap with introns\n"
     ]
    }
   ],
   "source": [
    "# Within introns  \n",
    "! bedtools intersect \\\n",
    "-u \\\n",
    "-a ../analyses/macau/macau-any10x.bed \\\n",
    "-b ../genome-features/Olurida_v081.intron.bed | wc -l\n",
    "!echo \"of 219 10x-any overlap with introns\"\n",
    "\n",
    "! bedtools intersect \\\n",
    "-u \\\n",
    "-a ../analyses/macau/macau-all10x.bed \\\n",
    "-b ../genome-features/Olurida_v081.intron.bed | wc -l\n",
    "!echo \"of 27 10x-all overlap with introns\"\n"
   ]
  },
  {
   "cell_type": "code",
   "execution_count": 75,
   "metadata": {},
   "outputs": [
    {
     "name": "stdout",
     "output_type": "stream",
     "text": [
      "     101\n",
      "of 219 10x-any overlap with mRNA\n",
      "      12\n",
      "of 27 10x-all overlap with mRNA\n"
     ]
    }
   ],
   "source": [
    "# Within mRNA  \n",
    "! bedtools intersect \\\n",
    "-u \\\n",
    "-a ../analyses/macau/macau-any10x.bed \\\n",
    "-b ../genome-features/Olurida_v081.mRNA.gff | wc -l\n",
    "!echo \"of 219 10x-any overlap with mRNA\"\n",
    "\n",
    "! bedtools intersect \\\n",
    "-u \\\n",
    "-a ../analyses/macau/macau-all10x.bed \\\n",
    "-b ../genome-features/Olurida_v081.mRNA.gff | wc -l\n",
    "!echo \"of 27 10x-all overlap with mRNA\"\n"
   ]
  },
  {
   "cell_type": "code",
   "execution_count": 76,
   "metadata": {},
   "outputs": [
    {
     "name": "stdout",
     "output_type": "stream",
     "text": [
      "       0\n",
      "of 219 10x-any overlap with 5' UTRs\n",
      "       0\n",
      "of 27 10x-all overlap with 5' UTRs\n"
     ]
    }
   ],
   "source": [
    "# Within 5' UTRs  \n",
    "! bedtools intersect \\\n",
    "-u \\\n",
    "-a ../analyses/macau/macau-any10x.bed \\\n",
    "-b ../genome-features/Olurida_v081.five_prime_UTR.gff | wc -l\n",
    "!echo \"of 219 10x-any overlap with 5' UTRs\"\n",
    "\n",
    "! bedtools intersect \\\n",
    "-u \\\n",
    "-a ../analyses/macau/macau-all10x.bed \\\n",
    "-b ../genome-features/Olurida_v081.five_prime_UTR.gff | wc -l\n",
    "!echo \"of 27 10x-all overlap with 5' UTRs\"\n"
   ]
  },
  {
   "cell_type": "code",
   "execution_count": 77,
   "metadata": {},
   "outputs": [
    {
     "name": "stdout",
     "output_type": "stream",
     "text": [
      "     101\n",
      "of 219 10x-any overlap with 3' UTRs\n",
      "      12\n",
      "of 27 10x-all overlap with 3' UTRs\n"
     ]
    }
   ],
   "source": [
    "# Within 3' UTRs  \n",
    "! bedtools intersect \\\n",
    "-u \\\n",
    "-a ../analyses/macau/macau-any10x.bed \\\n",
    "-b ../genome-features/Olurida_v081.mRNA.gff | wc -l\n",
    "!echo \"of 219 10x-any overlap with 3' UTRs\"\n",
    "\n",
    "! bedtools intersect \\\n",
    "-u \\\n",
    "-a ../analyses/macau/macau-all10x.bed \\\n",
    "-b ../genome-features/Olurida_v081.mRNA.gff | wc -l\n",
    "!echo \"of 27 10x-all overlap with 3' UTRs\"\n"
   ]
  },
  {
   "cell_type": "code",
   "execution_count": 78,
   "metadata": {},
   "outputs": [
    {
     "name": "stdout",
     "output_type": "stream",
     "text": [
      "      15\n",
      "of 219 10x-any overlap with 3' UTRs\n",
      "       1\n",
      "of 27 10x-all overlap with 3' UTRs\n"
     ]
    }
   ],
   "source": [
    "# Within Transposable Elements\n",
    "! bedtools intersect \\\n",
    "-u \\\n",
    "-a ../analyses/macau/macau-any10x.bed \\\n",
    "-b ../genome-features/Olurida_v081_TE-Cg.gff | wc -l\n",
    "!echo \"of 219 10x-any overlap with 3' UTRs\"\n",
    "\n",
    "! bedtools intersect \\\n",
    "-u \\\n",
    "-a ../analyses/macau/macau-all10x.bed \\\n",
    "-b ../genome-features/Olurida_v081_TE-Cg.gff | wc -l\n",
    "!echo \"of 27 10x-all overlap with 3' UTRs\""
   ]
  },
  {
   "cell_type": "markdown",
   "metadata": {},
   "source": []
  },
  {
   "cell_type": "code",
   "execution_count": 92,
   "metadata": {},
   "outputs": [
    {
     "data": {
      "text/plain": [
       "'/Users/laura/Documents/roberts-lab/paper-oly-mbdbs-gen/code'"
      ]
     },
     "execution_count": 92,
     "metadata": {},
     "output_type": "execute_result"
    }
   ],
   "source": [
    "pwd"
   ]
  },
  {
   "cell_type": "code",
   "execution_count": 94,
   "metadata": {},
   "outputs": [],
   "source": [
    "! bedtools intersect \\\n",
    "-wb \\\n",
    "-a ../analyses/dml25.bed \\\n",
    "-b ../genome-features/O* \\\n",
    "> ../analyses/20191120-DML-annotated.txt\n",
    "! head ../analyses/20191120-DML-annotated.txt"
   ]
  },
  {
   "cell_type": "code",
   "execution_count": 107,
   "metadata": {},
   "outputs": [
    {
     "name": "stdout",
     "output_type": "stream",
     "text": [
      "==> ../analyses/macau/20191120-MACAU-10xall-features.txt <==\r\n",
      "Contig18084\t10113\t10113\t1\tContig18084\tmaker\tCDS\t10046\t10226\t.\t+\t1\tID=Olurida_00008129-RA:cds;Parent=Olurida_00008129-RA;\r\n",
      "Contig18084\t10113\t10113\t2\tContig18084\tmaker\texon\t10046\t10226\t.\t+\t.\tID=Olurida_00008129-RA:exon:403;Parent=Olurida_00008129-RA;\r\n",
      "Contig18084\t10113\t10113\t4\tContig18084\tmaker\tgene\t8545\t20785\t.\t+\t.\tID=Olurida_00008129;Name=Olurida_00008129;Alias=snap_masked-Contig18084-processed-gene-0.1;Note=Similar to Vcpkmt: Protein-lysine methyltransferase METTL21D (Mus musculus OX%3D10090);Dbxref=Gene3D:G3DSA:3.40.50.150,InterPro:IPR019410,InterPro:IPR029063,Pfam:PF10294,SUPERFAMILY:SSF53335;\r\n",
      "Contig18084\t10113\t10113\t4\tContig18084\tmaker\tgene\t1368\t20969\t.\t-\t.\tID=Olurida_00008128;Name=Olurida_00008128;Alias=snap_masked-Contig18084-processed-gene-0.2;Note=Protein of unknown function;Dbxref=MobiDBLite:mobidb-lite;\r\n",
      "Contig18084\t10113\t10113\t6\tContig18084\tmaker\tmRNA\t8545\t20785\t.\t+\t.\tID=Olurida_00008129-RA;Parent=Olurida_00008129;Name=Olurida_00008129-RA;Alias=snap_masked-Contig18084-processed-gene-0.1-mRNA-1;_AED=0.45;_QI=0|0.12|0.11|0.66|1|1|9|0|339;_eAED=0.45;Note=Similar to Vcpkmt: Protein-lysine methyltransferase METTL21D (Mus musculus OX%3D10090);Dbxref=Gene3D:G3DSA:3.40.50.150,InterPro:IPR019410,InterPro:IPR029063,Pfam:PF10294,SUPERFAMILY:SSF53335;\r\n",
      "Contig18084\t10113\t10113\t6\tContig18084\tmaker\tmRNA\t1368\t20969\t.\t-\t.\tID=Olurida_00008128-RA;Parent=Olurida_00008128;Name=Olurida_00008128-RA;Alias=snap_masked-Contig18084-processed-gene-0.2-mRNA-1;_AED=0.28;_QI=43|0|0|0.2|1|0.8|5|0|348;_eAED=0.33;Note=Protein of unknown function;Dbxref=MobiDBLite:mobidb-lite;\r\n",
      "Contig202\t26526\t26526\t1\tContig202\tmaker\tCDS\t26487\t26695\t.\t-\t1\tID=Olurida_00003640-RA:cds;Parent=Olurida_00003640-RA;\r\n",
      "Contig202\t26526\t26526\t2\tContig202\tmaker\texon\t26487\t26695\t.\t-\t.\tID=Olurida_00003640-RA:exon:249;Parent=Olurida_00003640-RA;\r\n",
      "Contig202\t26526\t26526\t4\tContig202\tmaker\tgene\t6397\t33436\t.\t-\t.\tID=Olurida_00003640;Name=Olurida_00003640;Alias=maker-Contig202-snap-gene-0.7;Note=Similar to COPA: Coatomer subunit alpha (Homo sapiens OX%3D9606);Dbxref=CDD:cd00200,Gene3D:G3DSA:1.25.40.470,Gene3D:G3DSA:2.130.10.10,InterPro:IPR001680,InterPro:IPR006692,InterPro:IPR010714,InterPro:IPR015943,InterPro:IPR016391,InterPro:IPR017986,InterPro:IPR020472,InterPro:IPR036322,PIRSF:PIRSF003354,PRINTS:PR00320,Pfam:PF00400,Pfam:PF04053,Pfam:PF06957,ProSiteProfiles:PS50082,ProSiteProfiles:PS50294,SMART:SM00320,SUPERFAMILY:SSF50978;Ontology_term=GO:0005198,GO:0005515,GO:0006886,GO:0016192,GO:0030117,GO:0030126;\r\n",
      "Contig202\t26526\t26526\t6\tContig202\tmaker\tmRNA\t6397\t33436\t.\t-\t.\tID=Olurida_00003640-RA;Parent=Olurida_00003640;Name=Olurida_00003640-RA;Alias=maker-Contig202-snap-gene-0.7-mRNA-1;_AED=0.16;_QI=0|0.71|0.62|0.96|0.71|0.79|29|0|1119;_eAED=0.17;Note=Similar to COPA: Coatomer subunit alpha (Homo sapiens OX%3D9606);Dbxref=CDD:cd00200,Gene3D:G3DSA:1.25.40.470,Gene3D:G3DSA:2.130.10.10,InterPro:IPR001680,InterPro:IPR006692,InterPro:IPR010714,InterPro:IPR015943,InterPro:IPR016391,InterPro:IPR017986,InterPro:IPR020472,InterPro:IPR036322,PIRSF:PIRSF003354,PRINTS:PR00320,Pfam:PF00400,Pfam:PF04053,Pfam:PF06957,ProSiteProfiles:PS50082,ProSiteProfiles:PS50294,SMART:SM00320,SUPERFAMILY:SSF50978;Ontology_term=GO:0005198,GO:0005515,GO:0006886,GO:0016192,GO:0030117,GO:0030126;\r\n",
      "head: -1: No such file or directory\r\n"
     ]
    }
   ],
   "source": [
    "! bedtools intersect \\\n",
    "-wb \\\n",
    "-a ../analyses/macau/macau-all10x.bed \\\n",
    "-b ../genome-features/O* \\\n",
    "> ../analyses/macau/20191120-MACAU-10xall-features.txt"
   ]
  },
  {
   "cell_type": "code",
   "execution_count": 104,
   "metadata": {},
   "outputs": [
    {
     "name": "stdout",
     "output_type": "stream",
     "text": [
      "     421\n",
      "Contig11092\t7764\t7764\t1\tContig11092\tmaker\tCDS\t7652\t7967\t.\t+\t1\tID=Olurida_00013018-RA:cds;Parent=Olurida_00013018-RA;\n",
      "Contig11092\t7764\t7764\t2\tContig11092\tmaker\texon\t7652\t9918\t.\t+\t.\tID=Olurida_00013018-RA:exon:353;Parent=Olurida_00013018-RA;\n",
      "Contig11092\t7764\t7764\t4\tContig11092\tmaker\tgene\t2832\t9918\t.\t+\t.\tID=Olurida_00013018;Name=Olurida_00013018;Alias=maker-Contig11092-snap-gene-0.2;Note=Similar to mknk1: MAP kinase-interacting serine/threonine-protein kinase 1 (Xenopus tropicalis OX%3D8364);Dbxref=Gene3D:G3DSA:1.10.510.10,Gene3D:G3DSA:3.30.200.20,InterPro:IPR000719,InterPro:IPR008271,InterPro:IPR011009,InterPro:IPR017441,MobiDBLite:mobidb-lite,Pfam:PF00069,ProSitePatterns:PS00107,ProSitePatterns:PS00108,ProSiteProfiles:PS50011,SMART:SM00220,SUPERFAMILY:SSF56112;Ontology_term=GO:0004672,GO:0005524,GO:0006468;\n",
      "Contig11092\t7764\t7764\t6\tContig11092\tmaker\tmRNA\t2832\t9918\t.\t+\t.\tID=Olurida_00013018-RA;Parent=Olurida_00013018;Name=Olurida_00013018-RA;Alias=maker-Contig11092-snap-gene-0.2-mRNA-1;_AED=0.07;_QI=26|0.87|0.77|0.88|0.87|1|9|1951|516;_eAED=0.07;Note=Similar to mknk1: MAP kinase-interacting serine/threonine-protein kinase 1 (Xenopus tropicalis OX%3D8364);Dbxref=Gene3D:G3DSA:1.10.510.10,Gene3D:G3DSA:3.30.200.20,InterPro:IPR000719,InterPro:IPR008271,InterPro:IPR011009,InterPro:IPR017441,MobiDBLite:mobidb-lite,Pfam:PF00069,ProSitePatterns:PS00107,ProSitePatterns:PS00108,ProSiteProfiles:PS50011,SMART:SM00220,SUPERFAMILY:SSF56112;Ontology_term=GO:0004672,GO:0005524,GO:0006468;\n",
      "Contig113\t10801\t10801\t5\tContig113\t10755\t11249\n",
      "Contig113\t10801\t10801\t4\tContig113\tmaker\tgene\t846\t28054\t.\t+\t.\tID=Olurida_00001759;Name=Olurida_00001759;Alias=maker-Contig113-snap-gene-0.9;Note=Similar to MATN1: Cartilage matrix protein (Homo sapiens OX%3D9606);Dbxref=CDD:cd01450,CDD:cd01472,Gene3D:G3DSA:3.40.50.410,InterPro:IPR001007,InterPro:IPR002035,InterPro:IPR003582,InterPro:IPR036465,PRINTS:PR00453,Pfam:PF00092,Pfam:PF01549,ProSitePatterns:PS01208,ProSiteProfiles:PS50184,ProSiteProfiles:PS50234,ProSiteProfiles:PS51670,SMART:SM00214,SMART:SM00254,SMART:SM00327,SUPERFAMILY:SSF53300,SUPERFAMILY:SSF57603;Ontology_term=GO:0005515;\n",
      "Contig113\t10801\t10801\t6\tContig113\tmaker\tmRNA\t846\t28054\t.\t+\t.\tID=Olurida_00001759-RA;Parent=Olurida_00001759;Name=Olurida_00001759-RA;Alias=maker-Contig113-snap-gene-0.9-mRNA-1;_AED=0.26;_QI=35|0.30|0.26|1|0.63|0.61|34|0|1718;_eAED=0.31;Note=Similar to MATN1: Cartilage matrix protein (Homo sapiens OX%3D9606);Dbxref=CDD:cd01450,CDD:cd01472,Gene3D:G3DSA:3.40.50.410,InterPro:IPR001007,InterPro:IPR002035,InterPro:IPR003582,InterPro:IPR036465,PRINTS:PR00453,Pfam:PF00092,Pfam:PF01549,ProSitePatterns:PS01208,ProSiteProfiles:PS50184,ProSiteProfiles:PS50234,ProSiteProfiles:PS51670,SMART:SM00214,SMART:SM00254,SMART:SM00327,SUPERFAMILY:SSF53300,SUPERFAMILY:SSF57603;Ontology_term=GO:0005515;\n",
      "Contig113403\t874\t874\t1\tContig113403\tmaker\tCDS\t722\t1711\t.\t-\t0\tID=Olurida_00021273-RA:cds;Parent=Olurida_00021273-RA;\n",
      "Contig113403\t874\t874\t2\tContig113403\tmaker\texon\t722\t1711\t.\t-\t.\tID=Olurida_00021273-RA:exon:2989;Parent=Olurida_00021273-RA;\n",
      "Contig113403\t874\t874\t4\tContig113403\tmaker\tgene\t722\t4689\t.\t-\t.\tID=Olurida_00021273;Name=Olurida_00021273;Alias=snap_masked-Contig113403-processed-gene-0.1;Note=Protein of unknown function;Dbxref=Gene3D:G3DSA:1.10.10.60,InterPro:IPR004875,InterPro:IPR007889,InterPro:IPR009057,Pfam:PF03184,Pfam:PF05225,SUPERFAMILY:SSF46689;Ontology_term=GO:0003676,GO:0003677;\n"
     ]
    }
   ],
   "source": [
    "! bedtools intersect \\\n",
    "-wb \\\n",
    "-a ../analyses/macau/macau-any10x.bed \\\n",
    "-b ../genome-features/O* \\\n",
    "> ../analyses/macau/20191120-MACAU-10xany-features.txt "
   ]
  }
 ],
 "metadata": {
  "celltoolbar": "Raw Cell Format",
  "kernelspec": {
   "display_name": "Python 3",
   "language": "python",
   "name": "python3"
  },
  "language_info": {
   "codemirror_mode": {
    "name": "ipython",
    "version": 3
   },
   "file_extension": ".py",
   "mimetype": "text/x-python",
   "name": "python",
   "nbconvert_exporter": "python",
   "pygments_lexer": "ipython3",
   "version": "3.7.0"
  }
 },
 "nbformat": 4,
 "nbformat_minor": 1
}
